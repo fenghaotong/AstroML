{
 "cells": [
  {
   "cell_type": "markdown",
   "metadata": {},
   "source": [
    "# 第一章\n",
    "\n",
    "本章包含介绍性数字，包括astroML中的几个数据集，以及一些数据可视化策略。"
   ]
  },
  {
   "cell_type": "markdown",
   "metadata": {},
   "source": [
    "## [SDSS成像]((fig_SDSS_imaging.py)"
   ]
  },
  {
   "cell_type": "markdown",
   "metadata": {},
   "source": [
    "## [SDSS光谱示例](fig_sdss_spectrum.py)"
   ]
  },
  {
   "cell_type": "markdown",
   "metadata": {
    "collapsed": true
   },
   "source": [
    "## [SDSS光谱银河样品](fig_SDSS_specgals.py)"
   ]
  },
  {
   "cell_type": "markdown",
   "metadata": {},
   "source": [
    "## [SDSS DR7类星体](fig_dr7_quasar.py)\n",
    "\n",
    "SDSS DR7类星体的前10000个数据的r-i颜色与红移关系图，颜色变化是由于发射线进入和退出r和i波段的波长窗口。"
   ]
  },
  {
   "cell_type": "markdown",
   "metadata": {},
   "source": [
    "## [SDSS研究恒星参数流水线数据](fig_SDSS_sspp.py)\n",
    "\n",
    "显示了SDSS光谱星表中的前10,000个条目表面重力与有效温度的关系图."
   ]
  },
  {
   "cell_type": "markdown",
   "metadata": {},
   "source": [
    "## [SDSS条纹82标准星](fig_sdss_S82standards.py)"
   ]
  },
  {
   "cell_type": "markdown",
   "metadata": {},
   "source": [
    "## [阶段线性光曲线](fig_LINEAR_sample.py)"
   ]
  },
  {
   "cell_type": "markdown",
   "metadata": {},
   "source": [
    "## [SDSS移动对象数据](fig_moving_objects.py)"
   ]
  },
  {
   "cell_type": "markdown",
   "metadata": {},
   "source": [
    "## [SDSS条纹82标准星](fig_S82_scatter_contour.py)"
   ]
  },
  {
   "cell_type": "markdown",
   "metadata": {},
   "source": [
    "## [SDSS Stripe 82赫斯图](fig_S82_hess.py)\n"
   ]
  },
  {
   "cell_type": "markdown",
   "metadata": {},
   "source": [
    "## [恒星参数赫斯图](fig_SSPP_metallicity.py)\n"
   ]
  },
  {
   "cell_type": "markdown",
   "metadata": {},
   "source": [
    "## [SDSS条纹82移动物体目录](fig_moving_objects_multicolor.py)\n"
   ]
  },
  {
   "cell_type": "markdown",
   "metadata": {},
   "source": [
    "## [墨卡托投影](fig_mercator.py)"
   ]
  },
  {
   "cell_type": "markdown",
   "metadata": {},
   "source": [
    "## [球形投影](fig_projections.py)"
   ]
  },
  {
   "cell_type": "markdown",
   "metadata": {},
   "source": [
    "\n",
    "## [HealPix像素化的例子](fig_healpix_ex.py)"
   ]
  },
  {
   "cell_type": "code",
   "execution_count": null,
   "metadata": {
    "collapsed": true
   },
   "outputs": [],
   "source": []
  }
 ],
 "metadata": {
  "kernelspec": {
   "display_name": "Python 3",
   "language": "python",
   "name": "python3"
  },
  "language_info": {
   "codemirror_mode": {
    "name": "ipython",
    "version": 3
   },
   "file_extension": ".py",
   "mimetype": "text/x-python",
   "name": "python",
   "nbconvert_exporter": "python",
   "pygments_lexer": "ipython3",
   "version": "3.6.1"
  }
 },
 "nbformat": 4,
 "nbformat_minor": 2
}
