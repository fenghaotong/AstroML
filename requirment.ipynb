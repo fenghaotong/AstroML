{
 "cells": [
  {
   "cell_type": "markdown",
   "metadata": {},
   "source": [
    "## 使用前需要的准备"
   ]
  },
  {
   "cell_type": "markdown",
   "metadata": {},
   "source": [
    "- python\n",
    "- numpy\n",
    "- scipy\n",
    "- Latex\n",
    "- sk-learn\n",
    "- astroML\n",
    "- astropy\n",
    "- healpy\n",
    "- pymc"
   ]
  },
  {
   "cell_type": "markdown",
   "metadata": {},
   "source": [
    "### Anaconda安装\n",
    "\n",
    "- 这个一个基于python的科学计算集成包\n",
    "- [下载地址](https://www.anaconda.com/download/)\n",
    "- 针对不同的系统下载不同的版本，最好下载python3.6"
   ]
  },
  {
   "cell_type": "markdown",
   "metadata": {},
   "source": [
    "** 安装 **\n",
    "\n",
    "- windows系统下，直接双击安装，安装过程中有一个选项是添加安装路径到环境变量，勾选上\n",
    "- Linux系统下，[安装](http://blog.csdn.net/hh12211221/article/details/53743106)：\n",
    "\n",
    "```\n",
    "sh Anaconda3-5.0.1-Linux-x86_64.sh\n",
    "```\n",
    "安装过程中有一个选项是添加安装路径到环境变量，默认是‘no’，这时候输入‘yes’"
   ]
  },
  {
   "cell_type": "markdown",
   "metadata": {},
   "source": [
    "安装后在命令行或者终端输入`conda`命令，测试是否安装成功\n",
    "\n",
    "安装成功后，python、numpy、scipy、sk-learn这些包都已经包含了"
   ]
  },
  {
   "cell_type": "markdown",
   "metadata": {},
   "source": [
    "### 安装astroML"
   ]
  },
  {
   "cell_type": "markdown",
   "metadata": {},
   "source": [
    "在命令行或者终端输入\n",
    "\n",
    "```\n",
    "pip install astroML\n",
    "或\n",
    "conda install astroML\n",
    "```"
   ]
  },
  {
   "cell_type": "markdown",
   "metadata": {},
   "source": [
    "### 安装astropy"
   ]
  },
  {
   "cell_type": "markdown",
   "metadata": {},
   "source": [
    "在命令行或者终端输入\n",
    "\n",
    "```\n",
    "pip install astropy\n",
    "或\n",
    "conda install astropy\n",
    "```"
   ]
  },
  {
   "cell_type": "markdown",
   "metadata": {},
   "source": [
    "### 安装 healpy和pymc"
   ]
  },
  {
   "cell_type": "markdown",
   "metadata": {
    "collapsed": true
   },
   "source": [
    "```\n",
    "conda install --upgrade healpy\n",
    "\n",
    "conda config --add channels conda-forge\n",
    "conda install healpy\n",
    "\n",
    "\n",
    "conda install pymc\n",
    "```"
   ]
  }
 ],
 "metadata": {
  "kernelspec": {
   "display_name": "Python 3",
   "language": "python",
   "name": "python3"
  },
  "language_info": {
   "codemirror_mode": {
    "name": "ipython",
    "version": 3
   },
   "file_extension": ".py",
   "mimetype": "text/x-python",
   "name": "python",
   "nbconvert_exporter": "python",
   "pygments_lexer": "ipython3",
   "version": "3.6.1"
  }
 },
 "nbformat": 4,
 "nbformat_minor": 2
}
