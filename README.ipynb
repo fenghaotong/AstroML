{
 "cells": [
  {
   "cell_type": "markdown",
   "metadata": {},
   "source": [
    "# 天文上的机器学习\n",
    "\n",
    "笔记@htfeng\n",
    "\n",
    "记录一些机器学习在天文上的应用"
   ]
  },
  {
   "cell_type": "markdown",
   "metadata": {},
   "source": [
    "## 应用工具"
   ]
  },
  {
   "cell_type": "markdown",
   "metadata": {},
   "source": [
    "- 在看之前需要了解的[工具](requirment.ipynb)"
   ]
  },
  {
   "cell_type": "markdown",
   "metadata": {},
   "source": [
    "## 序言\n",
    "\n",
    "在开始之前，在根目录有一个plot_neighbors_photoz.py文件和一个数据文件，是预测测光红移\n",
    "\n",
    "你可以执行\n",
    "```\n",
    "python plot_neighbors_photoz.py\n",
    "```\n",
    "感受一下"
   ]
  },
  {
   "cell_type": "markdown",
   "metadata": {},
   "source": [
    "## 内容\n",
    "\n",
    "- [数据集](dataSet/dataSets.ipynb) : 主要是用到的一些数据集\n",
    "- [chapter1](chapter1/Chapter1.ipynb) :本章包含介绍性数字，包括astroML中的几个数据集，以及一些数据可视化策略。\n",
    "- [chapter2](chapter2/Chapter2.ipynb) : 本章讨论大数据集的计算策略。\n",
    "- [chapter3](chapter3/Chapter3.ipynb) : 基本原理, 包括概率和基本的描述性统计。并介绍了几种重要的概率分布函数\n",
    "- [chapter4](chapter4/Chapter4.ipynb) : 古典统计判断\n",
    "- [chapter5](chapter5/Chapter5.ipynb) : 贝叶斯统计推断\n",
    "- [chapter6](chapter6/Chapter6.ipynb) : 本章涵盖了高维点统计，包括密度估计，聚类和相关函数\n",
    "- [chapter7](chapter7/Chapter7.ipynb) :  本章介绍了从PCA，NMF和ICA等线性方法到LLE和Isomap等非线性方法的降维。\n",
    "- [chapter8](chapter8/Chapter8.ipynb) : 本章包括线性和非线性回归以及模型拟合，包括对数据错误和异常值的存在具有鲁棒性的策略。\n",
    "- [chapter9](chapter9/Chapter9.ipynb) : 本章介绍了数据的监督分类，使用了一些生成性和区分性的分类器。\n",
    "- [chapter10](chapter10/Chapter10.ipynb) : 时间序列分析"
   ]
  },
  {
   "cell_type": "code",
   "execution_count": null,
   "metadata": {
    "collapsed": true
   },
   "outputs": [],
   "source": []
  }
 ],
 "metadata": {
  "kernelspec": {
   "display_name": "Python 3",
   "language": "python",
   "name": "python3"
  },
  "language_info": {
   "codemirror_mode": {
    "name": "ipython",
    "version": 3
   },
   "file_extension": ".py",
   "mimetype": "text/x-python",
   "name": "python",
   "nbconvert_exporter": "python",
   "pygments_lexer": "ipython3",
   "version": "3.6.1"
  }
 },
 "nbformat": 4,
 "nbformat_minor": 2
}
